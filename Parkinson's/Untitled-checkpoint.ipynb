{
 "cells": [
  {
   "cell_type": "code",
   "execution_count": 2,
   "id": "d4c859e1",
   "metadata": {},
   "outputs": [],
   "source": [
    "import pandas as pd\n",
    "import numpy as np"
   ]
  },
  {
   "cell_type": "code",
   "execution_count": 3,
   "id": "6540083f",
   "metadata": {
    "scrolled": true
   },
   "outputs": [
    {
     "data": {
      "text/plain": [
       "Index(['name', 'MDVP:Fo(Hz)', 'MDVP:Fhi(Hz)', 'MDVP:Flo(Hz)', 'MDVP:Jitter(%)',\n",
       "       'MDVP:Jitter(Abs)', 'MDVP:RAP', 'MDVP:PPQ', 'Jitter:DDP',\n",
       "       'MDVP:Shimmer', 'MDVP:Shimmer(dB)', 'Shimmer:APQ3', 'Shimmer:APQ5',\n",
       "       'MDVP:APQ', 'Shimmer:DDA', 'NHR', 'HNR', 'status', 'RPDE', 'DFA',\n",
       "       'spread1', 'spread2', 'D2', 'PPE'],\n",
       "      dtype='object')"
      ]
     },
     "execution_count": 3,
     "metadata": {},
     "output_type": "execute_result"
    }
   ],
   "source": [
    "#reading data\n",
    "data = pd.read_csv(\"Parkinsson disease.csv\")\n",
    "data.head()\n",
    "data.shape\n",
    "data.columns"
   ]
  },
  {
   "cell_type": "code",
   "execution_count": 4,
   "id": "656069a6",
   "metadata": {},
   "outputs": [],
   "source": [
    "names = np.array(data['name'])"
   ]
  },
  {
   "cell_type": "code",
   "execution_count": 5,
   "id": "f72ba41d",
   "metadata": {},
   "outputs": [],
   "source": [
    "#seperating features from label in data\n",
    "data = data[['MDVP:Fo(Hz)', 'MDVP:Fhi(Hz)', 'MDVP:Flo(Hz)', 'MDVP:Jitter(%)',\n",
    "       'MDVP:Jitter(Abs)', 'MDVP:RAP', 'MDVP:PPQ', 'Jitter:DDP',\n",
    "       'MDVP:Shimmer', 'MDVP:Shimmer(dB)', 'Shimmer:APQ3', 'Shimmer:APQ5',\n",
    "       'MDVP:APQ', 'Shimmer:DDA', 'NHR', 'HNR', 'status', 'RPDE', 'DFA',\n",
    "       'spread1', 'spread2', 'D2', 'PPE']]\n",
    "predict = \"status\"\n",
    "\n",
    "X = np.array(data.drop([predict],1))\n",
    "Y = np.array(data[predict])"
   ]
  },
  {
   "cell_type": "code",
   "execution_count": 6,
   "id": "1c974bb3",
   "metadata": {},
   "outputs": [],
   "source": [
    "import sklearn\n",
    "from sklearn import linear_model\n",
    "from sklearn.utils import shuffle"
   ]
  },
  {
   "cell_type": "code",
   "execution_count": 7,
   "id": "819003e3",
   "metadata": {},
   "outputs": [],
   "source": [
    "#splitting into train and test sets\n",
    "x_train, x_test, y_train, y_test = sklearn.model_selection.train_test_split(X, Y, test_size = 0.2)"
   ]
  },
  {
   "cell_type": "code",
   "execution_count": 8,
   "id": "c73e077f",
   "metadata": {},
   "outputs": [],
   "source": [
    "#importing the RFC module\n",
    "from sklearn.ensemble import RandomForestClassifier\n",
    "import matplotlib.pyplot as plt\n",
    "import seaborn as sns"
   ]
  },
  {
   "cell_type": "code",
   "execution_count": 9,
   "id": "2de8499b",
   "metadata": {},
   "outputs": [
    {
     "data": {
      "text/plain": [
       "RandomForestClassifier()"
      ]
     },
     "execution_count": 9,
     "metadata": {},
     "output_type": "execute_result"
    }
   ],
   "source": [
    "#model fitting\n",
    "clf=RandomForestClassifier(n_estimators=100)\n",
    "\n",
    "clf.fit(x_train,y_train)"
   ]
  },
  {
   "cell_type": "code",
   "execution_count": 10,
   "id": "a009af7a",
   "metadata": {},
   "outputs": [
    {
     "data": {
      "text/plain": [
       "spread1             0.129592\n",
       "PPE                 0.118122\n",
       "MDVP:Fo(Hz)         0.083955\n",
       "spread2             0.075660\n",
       "MDVP:Jitter(Abs)    0.048876\n",
       "MDVP:APQ            0.046782\n",
       "MDVP:Fhi(Hz)        0.046563\n",
       "Jitter:DDP          0.043484\n",
       "D2                  0.035928\n",
       "NHR                 0.034642\n",
       "MDVP:RAP            0.032839\n",
       "HNR                 0.031790\n",
       "DFA                 0.031467\n",
       "MDVP:Flo(Hz)        0.030672\n",
       "Shimmer:APQ5        0.028952\n",
       "RPDE                0.028718\n",
       "Shimmer:DDA         0.028336\n",
       "Shimmer:APQ3        0.026404\n",
       "MDVP:Shimmer        0.026367\n",
       "MDVP:Jitter(%)      0.025743\n",
       "MDVP:PPQ            0.025470\n",
       "MDVP:Shimmer(dB)    0.019640\n",
       "dtype: float64"
      ]
     },
     "execution_count": 10,
     "metadata": {},
     "output_type": "execute_result"
    }
   ],
   "source": [
    "#feature selection\n",
    "feature_scores = pd.Series(clf.feature_importances_,data.drop([predict],1).columns).sort_values(ascending=False)\n",
    "feature_scores"
   ]
  },
  {
   "cell_type": "code",
   "execution_count": 13,
   "id": "24a226ee",
   "metadata": {},
   "outputs": [
    {
     "data": {
      "image/png": "[encoded data removed]",
      "text/plain": [
       "<Figure size 720x720 with 1 Axes>"
      ]
     },
     "metadata": {
      "needs_background": "light"
     },
     "output_type": "display_data"
    }
   ],
   "source": [
    "plt.figure(figsize=(10,10))\n",
    "sns.barplot(x=feature_scores, y=feature_scores.index)\n",
    "plt.xlabel('Importance score')\n",
    "plt.ylabel(\"Features\")\n",
    "plt.show()"
   ]
  },
  {
   "cell_type": "code",
   "execution_count": 14,
   "id": "876a2a86",
   "metadata": {},
   "outputs": [],
   "source": [
    "#using new set of features\n",
    "data = data[['MDVP:Fo(Hz)', 'MDVP:Fhi(Hz)', 'MDVP:Flo(Hz)', 'MDVP:RAP', 'MDVP:PPQ', 'Jitter:DDP', \n",
    "             'MDVP:Shimmer(dB)', 'Shimmer:APQ3', 'Shimmer:APQ5',\n",
    "            'MDVP:APQ', 'Shimmer:DDA', 'NHR', 'HNR', 'status', 'RPDE', 'DFA',\n",
    "             'spread1', 'spread2', 'D2', 'PPE']]\n",
    "predict = \"status\"\n",
    "\n",
    "X = np.array(data.drop([predict],1))\n",
    "Y = np.array(data[predict])\n"
   ]
  },
  {
   "cell_type": "code",
   "execution_count": 15,
   "id": "b9c31e49",
   "metadata": {},
   "outputs": [],
   "source": [
    "x_train, x_test, y_train, y_test = sklearn.model_selection.train_test_split(X, Y, test_size = 0.2)"
   ]
  },
  {
   "cell_type": "code",
   "execution_count": 16,
   "id": "fb4812ae",
   "metadata": {},
   "outputs": [
    {
     "data": {
      "text/plain": [
       "(156, 19)"
      ]
     },
     "execution_count": 16,
     "metadata": {},
     "output_type": "execute_result"
    }
   ],
   "source": [
    "x_train.shape"
   ]
  },
  {
   "cell_type": "code",
   "execution_count": 17,
   "id": "24d03361",
   "metadata": {},
   "outputs": [
    {
     "data": {
      "text/plain": [
       "RandomForestClassifier()"
      ]
     },
     "execution_count": 17,
     "metadata": {},
     "output_type": "execute_result"
    }
   ],
   "source": [
    "#model fitting using optimal number of features\n",
    "clf=RandomForestClassifier(n_estimators=100)\n",
    "\n",
    "clf.fit(x_train,y_train)"
   ]
  },
  {
   "cell_type": "code",
   "execution_count": 18,
   "id": "7116fab4",
   "metadata": {},
   "outputs": [
    {
     "data": {
      "text/plain": [
       "array([1, 1, 1, 1, 1, 1, 0, 1, 1, 1, 1, 1, 1, 0, 1, 1, 1, 1, 0, 0, 1, 0,\n",
       "       1, 1, 1, 0, 1, 1, 0, 1, 0, 1, 1, 1, 1, 1, 0, 1, 1], dtype=int64)"
      ]
     },
     "execution_count": 18,
     "metadata": {},
     "output_type": "execute_result"
    }
   ],
   "source": [
    "#predicting on out test set\n",
    "predictions = clf.predict(x_test)\n",
    "predictions"
   ]
  },
  {
   "cell_type": "code",
   "execution_count": 19,
   "id": "54a2dddf",
   "metadata": {},
   "outputs": [
    {
     "data": {
      "text/plain": [
       "array([0, 1, 1, 1, 1, 1, 0, 1, 0, 1, 1, 1, 1, 0, 1, 1, 1, 1, 0, 0, 1, 0,\n",
       "       0, 1, 1, 0, 1, 1, 0, 1, 0, 1, 1, 1, 1, 1, 0, 1, 1], dtype=int64)"
      ]
     },
     "execution_count": 19,
     "metadata": {},
     "output_type": "execute_result"
    }
   ],
   "source": [
    "y_test"
   ]
  },
  {
   "cell_type": "code",
   "execution_count": 20,
   "id": "020e9e80",
   "metadata": {},
   "outputs": [],
   "source": [
    "from sklearn import metrics"
   ]
  },
  {
   "cell_type": "code",
   "execution_count": 71,
   "id": "296611ef",
   "metadata": {},
   "outputs": [
    {
     "name": "stdout",
     "output_type": "stream",
     "text": [
      "Accuracy: 0.8717948717948718\n"
     ]
    }
   ],
   "source": [
    "print(\"Accuracy:\",metrics.accuracy_score(y_test, predictions))"
   ]
  },
  {
   "cell_type": "code",
   "execution_count": 21,
   "id": "fa7047a1",
   "metadata": {},
   "outputs": [
    {
     "name": "stdout",
     "output_type": "stream",
     "text": [
      "phon_R01_S01_1  : 1\n",
      "phon_R01_S01_2  : 1\n",
      "phon_R01_S01_3  : 1\n",
      "phon_R01_S01_4  : 1\n",
      "phon_R01_S01_5  : 1\n",
      "phon_R01_S01_6  : 1\n",
      "phon_R01_S02_1  : 1\n",
      "phon_R01_S02_2  : 1\n",
      "phon_R01_S02_3  : 1\n",
      "phon_R01_S02_4  : 1\n",
      "phon_R01_S02_5  : 1\n",
      "phon_R01_S02_6  : 1\n",
      "phon_R01_S04_1  : 1\n",
      "phon_R01_S04_2  : 1\n",
      "phon_R01_S04_3  : 1\n",
      "phon_R01_S04_4  : 1\n",
      "phon_R01_S04_5  : 1\n",
      "phon_R01_S04_6  : 1\n",
      "phon_R01_S05_1  : 1\n",
      "phon_R01_S05_2  : 1\n",
      "phon_R01_S05_3  : 1\n",
      "phon_R01_S05_4  : 1\n",
      "phon_R01_S05_5  : 1\n",
      "phon_R01_S05_6  : 1\n",
      "phon_R01_S06_1  : 1\n",
      "phon_R01_S06_2  : 1\n",
      "phon_R01_S06_3  : 1\n",
      "phon_R01_S06_4  : 1\n",
      "phon_R01_S06_5  : 1\n",
      "phon_R01_S06_6  : 1\n",
      "phon_R01_S07_1  : 0\n",
      "phon_R01_S07_2  : 0\n",
      "phon_R01_S07_3  : 0\n",
      "phon_R01_S07_4  : 0\n",
      "phon_R01_S07_5  : 0\n",
      "phon_R01_S07_6  : 0\n",
      "phon_R01_S08_1  : 1\n",
      "phon_R01_S08_2  : 1\n",
      "phon_R01_S08_3  : 1\n",
      "phon_R01_S08_4  : 1\n",
      "phon_R01_S08_5  : 1\n",
      "phon_R01_S08_6  : 1\n",
      "phon_R01_S10_1  : 0\n",
      "phon_R01_S10_2  : 0\n",
      "phon_R01_S10_3  : 0\n",
      "phon_R01_S10_4  : 0\n",
      "phon_R01_S10_5  : 0\n",
      "phon_R01_S10_6  : 0\n",
      "phon_R01_S13_1  : 0\n",
      "phon_R01_S13_2  : 0\n",
      "phon_R01_S13_3  : 0\n",
      "phon_R01_S13_4  : 0\n",
      "phon_R01_S13_5  : 0\n",
      "phon_R01_S13_6  : 0\n",
      "phon_R01_S16_1  : 1\n",
      "phon_R01_S16_2  : 1\n",
      "phon_R01_S16_3  : 1\n",
      "phon_R01_S16_4  : 1\n",
      "phon_R01_S16_5  : 1\n",
      "phon_R01_S16_6  : 1\n",
      "phon_R01_S17_1  : 0\n",
      "phon_R01_S17_2  : 0\n",
      "phon_R01_S17_3  : 0\n",
      "phon_R01_S17_4  : 0\n",
      "phon_R01_S17_5  : 0\n",
      "phon_R01_S17_6  : 0\n",
      "phon_R01_S18_1  : 1\n",
      "phon_R01_S18_2  : 1\n",
      "phon_R01_S18_3  : 1\n",
      "phon_R01_S18_4  : 1\n",
      "phon_R01_S18_5  : 1\n",
      "phon_R01_S18_6  : 1\n",
      "phon_R01_S19_1  : 1\n",
      "phon_R01_S19_2  : 1\n",
      "phon_R01_S19_3  : 1\n",
      "phon_R01_S19_4  : 1\n",
      "phon_R01_S19_5  : 1\n",
      "phon_R01_S19_6  : 1\n",
      "phon_R01_S20_1  : 1\n",
      "phon_R01_S20_2  : 1\n",
      "phon_R01_S20_3  : 1\n",
      "phon_R01_S20_4  : 1\n",
      "phon_R01_S20_5  : 1\n",
      "phon_R01_S20_6  : 1\n",
      "phon_R01_S21_1  : 1\n",
      "phon_R01_S21_2  : 1\n",
      "phon_R01_S21_3  : 1\n",
      "phon_R01_S21_4  : 1\n",
      "phon_R01_S21_5  : 1\n",
      "phon_R01_S21_6  : 1\n",
      "phon_R01_S21_7  : 1\n",
      "phon_R01_S22_1  : 1\n",
      "phon_R01_S22_2  : 1\n",
      "phon_R01_S22_3  : 1\n",
      "phon_R01_S22_4  : 1\n",
      "phon_R01_S22_5  : 1\n",
      "phon_R01_S22_6  : 1\n",
      "phon_R01_S24_1  : 1\n",
      "phon_R01_S24_2  : 1\n",
      "phon_R01_S24_3  : 1\n",
      "phon_R01_S24_4  : 1\n",
      "phon_R01_S24_5  : 1\n",
      "phon_R01_S24_6  : 1\n",
      "phon_R01_S25_1  : 1\n",
      "phon_R01_S25_2  : 1\n",
      "phon_R01_S25_3  : 1\n",
      "phon_R01_S25_4  : 1\n",
      "phon_R01_S25_5  : 1\n",
      "phon_R01_S25_6  : 1\n",
      "phon_R01_S26_1  : 1\n",
      "phon_R01_S26_2  : 1\n",
      "phon_R01_S26_3  : 1\n",
      "phon_R01_S26_4  : 1\n",
      "phon_R01_S26_5  : 1\n",
      "phon_R01_S26_6  : 1\n",
      "phon_R01_S27_1  : 1\n",
      "phon_R01_S27_2  : 1\n",
      "phon_R01_S27_3  : 1\n",
      "phon_R01_S27_4  : 1\n",
      "phon_R01_S27_5  : 1\n",
      "phon_R01_S27_6  : 1\n",
      "phon_R01_S27_7  : 1\n",
      "phon_R01_S31_1  : 1\n",
      "phon_R01_S31_2  : 1\n",
      "phon_R01_S31_3  : 1\n",
      "phon_R01_S31_4  : 1\n",
      "phon_R01_S31_5  : 1\n",
      "phon_R01_S31_6  : 1\n",
      "phon_R01_S32_1  : 1\n",
      "phon_R01_S32_2  : 1\n",
      "phon_R01_S32_3  : 1\n",
      "phon_R01_S32_4  : 1\n",
      "phon_R01_S32_5  : 1\n",
      "phon_R01_S32_6  : 1\n",
      "phon_R01_S33_1  : 1\n",
      "phon_R01_S33_2  : 1\n",
      "phon_R01_S33_3  : 1\n",
      "phon_R01_S33_4  : 1\n",
      "phon_R01_S33_5  : 1\n",
      "phon_R01_S33_6  : 1\n",
      "phon_R01_S34_1  : 1\n",
      "phon_R01_S34_2  : 1\n",
      "phon_R01_S34_3  : 1\n",
      "phon_R01_S34_4  : 1\n",
      "phon_R01_S34_5  : 1\n",
      "phon_R01_S34_6  : 1\n",
      "phon_R01_S35_1  : 1\n",
      "phon_R01_S35_2  : 1\n",
      "phon_R01_S35_3  : 1\n",
      "phon_R01_S35_4  : 1\n",
      "phon_R01_S35_5  : 1\n",
      "phon_R01_S35_6  : 1\n",
      "phon_R01_S35_7  : 1\n",
      "phon_R01_S37_1  : 1\n",
      "phon_R01_S37_2  : 1\n",
      "phon_R01_S37_3  : 1\n",
      "phon_R01_S37_4  : 1\n",
      "phon_R01_S37_5  : 1\n",
      "phon_R01_S37_6  : 1\n",
      "phon_R01_S39_1  : 1\n",
      "phon_R01_S39_2  : 1\n",
      "phon_R01_S39_3  : 1\n",
      "phon_R01_S39_4  : 1\n",
      "phon_R01_S39_5  : 1\n",
      "phon_R01_S39_6  : 1\n",
      "phon_R01_S42_1  : 0\n",
      "phon_R01_S42_2  : 0\n",
      "phon_R01_S42_3  : 0\n",
      "phon_R01_S42_4  : 0\n",
      "phon_R01_S42_5  : 0\n",
      "phon_R01_S42_6  : 0\n",
      "phon_R01_S43_1  : 1\n",
      "phon_R01_S43_2  : 0\n",
      "phon_R01_S43_3  : 0\n",
      "phon_R01_S43_4  : 0\n",
      "phon_R01_S43_5  : 0\n",
      "phon_R01_S43_6  : 0\n",
      "phon_R01_S44_1  : 1\n",
      "phon_R01_S44_2  : 1\n",
      "phon_R01_S44_3  : 1\n",
      "phon_R01_S44_4  : 1\n",
      "phon_R01_S44_5  : 1\n",
      "phon_R01_S44_6  : 1\n",
      "phon_R01_S49_1  : 0\n",
      "phon_R01_S49_2  : 0\n",
      "phon_R01_S49_3  : 0\n",
      "phon_R01_S49_4  : 0\n",
      "phon_R01_S49_5  : 0\n",
      "phon_R01_S49_6  : 0\n",
      "phon_R01_S50_1  : 0\n",
      "phon_R01_S50_2  : 1\n",
      "phon_R01_S50_3  : 0\n",
      "phon_R01_S50_4  : 0\n",
      "phon_R01_S50_5  : 0\n",
      "phon_R01_S50_6  : 1\n"
     ]
    }
   ],
   "source": [
    "#printing in the format of ame and test results\n",
    "for i in range(len(data)):\n",
    "    print(names[i],\" :\",clf.predict(X)[i])"
   ]
  },
  {
   "cell_type": "code",
   "execution_count": null,
   "id": "d045fb46",
   "metadata": {},
   "outputs": [],
   "source": []
  }
 ],
 "metadata": {
  "kernelspec": {
   "display_name": "Python 3 (ipykernel)",
   "language": "python",
   "name": "python3"
  },
  "language_info": {
   "codemirror_mode": {
    "name": "ipython",
    "version": 3
   },
   "file_extension": ".py",
   "mimetype": "text/x-python",
   "name": "python",
   "nbconvert_exporter": "python",
   "pygments_lexer": "ipython3",
   "version": "3.9.5"
  }
 },
 "nbformat": 4,
 "nbformat_minor": 5
}
